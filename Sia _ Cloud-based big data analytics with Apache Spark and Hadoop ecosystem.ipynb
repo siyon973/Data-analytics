{
  "nbformat": 4,
  "nbformat_minor": 0,
  "metadata": {
    "colab": {
      "provenance": []
    },
    "kernelspec": {
      "name": "python3",
      "display_name": "Python 3"
    },
    "language_info": {
      "name": "python"
    }
  },
  "cells": [
    {
      "cell_type": "code",
      "execution_count": 2,
      "metadata": {
        "id": "nl83KJPlYosD"
      },
      "outputs": [],
      "source": [
        "# Loading the dataset\n",
        "import pandas as pd"
      ]
    },
    {
      "cell_type": "code",
      "source": [
        "# Loading the dataset\n",
        "df = pd.read_csv(\"books_data.csv\")"
      ],
      "metadata": {
        "id": "WY1mZ6-PhjTw"
      },
      "execution_count": 3,
      "outputs": []
    },
    {
      "cell_type": "markdown",
      "source": [
        "Hadoop MapReduce Job"
      ],
      "metadata": {
        "id": "CWzpDciZh7Pe"
      }
    },
    {
      "cell_type": "code",
      "source": [
        "# Simulating the MapReduce: Word Count\n",
        "def map_reduce_word_count(data):\n",
        "    # Mapper\n",
        "    mapped = []\n",
        "    for desc in data['description'].dropna():\n",
        "        words = desc.split()\n",
        "        mapped.extend([(word.lower(), 1) for word in words])\n",
        "    # Reducer\n",
        "    reduced = {}\n",
        "    for word, count in mapped:\n",
        "        reduced[word] = reduced.get(word, 0) + count\n",
        "    return reduced"
      ],
      "metadata": {
        "id": "lTCqFEaKhnuU"
      },
      "execution_count": 4,
      "outputs": []
    },
    {
      "cell_type": "code",
      "source": [
        "# Running the MapReduce job\n",
        "word_counts = map_reduce_word_count(df)\n",
        "sorted_word_counts = sorted(word_counts.items(), key=lambda x: x[1], reverse=True)"
      ],
      "metadata": {
        "id": "huiyAof2hty0"
      },
      "execution_count": 5,
      "outputs": []
    },
    {
      "cell_type": "code",
      "source": [
        "# Displaying top 10 word frequencies\n",
        "print(\"Top 10 Word Frequencies in Description:\")\n",
        "print(sorted_word_counts[:10])"
      ],
      "metadata": {
        "colab": {
          "base_uri": "https://localhost:8080/"
        },
        "id": "24hF0ZKBhwpE",
        "outputId": "2e1c2f00-6763-4873-bf68-69cad92ea526"
      },
      "execution_count": 6,
      "outputs": [
        {
          "output_type": "stream",
          "name": "stdout",
          "text": [
            "Top 10 Word Frequencies in Description:\n",
            "[('the', 898888), ('and', 639147), ('of', 586098), ('to', 361155), ('a', 353734), ('in', 283222), ('is', 150728), ('for', 140415), ('with', 120235), ('that', 109321)]\n"
          ]
        }
      ]
    },
    {
      "cell_type": "markdown",
      "source": [
        "Apache Spark Job\n",
        "\n",
        "\n",
        "\n",
        "\n"
      ],
      "metadata": {
        "id": "t6vXqkmMh-df"
      }
    },
    {
      "cell_type": "code",
      "source": [
        "# Installing the PySpark\n",
        "!pip install pyspark\n",
        "\n",
        "from pyspark.sql import SparkSession\n",
        "from pyspark.sql.functions import col, count, lower, explode, split"
      ],
      "metadata": {
        "colab": {
          "base_uri": "https://localhost:8080/"
        },
        "id": "DO90G9ueh2AM",
        "outputId": "4f3f94c2-a52c-4cb5-ccdc-f60aa7055438"
      },
      "execution_count": 7,
      "outputs": [
        {
          "output_type": "stream",
          "name": "stdout",
          "text": [
            "Requirement already satisfied: pyspark in /usr/local/lib/python3.11/dist-packages (3.5.4)\n",
            "Requirement already satisfied: py4j==0.10.9.7 in /usr/local/lib/python3.11/dist-packages (from pyspark) (0.10.9.7)\n"
          ]
        }
      ]
    },
    {
      "cell_type": "code",
      "source": [
        "# Initializing the SparkSession\n",
        "spark = SparkSession.builder.appName(\"BooksDataProcessing\").getOrCreate()"
      ],
      "metadata": {
        "id": "3TahI9vjiCzz"
      },
      "execution_count": 8,
      "outputs": []
    },
    {
      "cell_type": "code",
      "source": [
        "# Loading the dataset into the Spark DataFrame\n",
        "df = spark.read.csv(\"books_data.csv\", header=True, inferSchema=True)\n",
        "# Displaying the schema and first few rows\n",
        "df.printSchema()\n",
        "df.show(5)"
      ],
      "metadata": {
        "colab": {
          "base_uri": "https://localhost:8080/"
        },
        "id": "lHzX89yoiHWT",
        "outputId": "a633a7aa-128b-4de8-90d3-533e735a5e3c"
      },
      "execution_count": 9,
      "outputs": [
        {
          "output_type": "stream",
          "name": "stdout",
          "text": [
            "root\n",
            " |-- Title: string (nullable = true)\n",
            " |-- description: string (nullable = true)\n",
            " |-- authors: string (nullable = true)\n",
            " |-- image: string (nullable = true)\n",
            " |-- previewLink: string (nullable = true)\n",
            " |-- publisher: string (nullable = true)\n",
            " |-- publishedDate: string (nullable = true)\n",
            " |-- infoLink: string (nullable = true)\n",
            " |-- categories: string (nullable = true)\n",
            " |-- ratingsCount: string (nullable = true)\n",
            "\n",
            "+--------------------+--------------------+--------------------+--------------------+--------------------+--------------------+--------------+--------------------+--------------------+------------+\n",
            "|               Title|         description|             authors|               image|         previewLink|           publisher| publishedDate|            infoLink|          categories|ratingsCount|\n",
            "+--------------------+--------------------+--------------------+--------------------+--------------------+--------------------+--------------+--------------------+--------------------+------------+\n",
            "|Its Only Art If I...|                NULL|    ['Julie Strain']|http://books.goog...|http://books.goog...|                NULL|          1996|http://books.goog...|['Comics & Graphi...|        NULL|\n",
            "|Dr. Seuss: Americ...|\"Philip Nel takes...| like that of Lew...| has changed lang...| giving us new wo...| inspiring artist...|['Philip Nel']|http://books.goog...|http://books.goog...|   A&C Black|\n",
            "|Wonderful Worship...|This resource inc...|    ['David R. Ray']|http://books.goog...|http://books.goog...|                NULL|          2000|http://books.goog...|        ['Religion']|        NULL|\n",
            "|Whispers of the W...|Julia Thomas find...| ['Veronica Haddon']|http://books.goog...|http://books.goog...|           iUniverse|       2005-02|http://books.goog...|         ['Fiction']|        NULL|\n",
            "|Nation Dance: Rel...|                NULL|     ['Edward Long']|                NULL|http://books.goog...|                NULL|      3/1/2003|http://books.goog...|                NULL|        NULL|\n",
            "+--------------------+--------------------+--------------------+--------------------+--------------------+--------------------+--------------+--------------------+--------------------+------------+\n",
            "only showing top 5 rows\n",
            "\n"
          ]
        }
      ]
    },
    {
      "cell_type": "code",
      "source": [
        "# Task 1: Word Count (EDA on 'description')\n",
        "# Tokenizing the descriptions into words\n",
        "df_words = df.select(explode(split(lower(col(\"description\")), \"\\\\s+\")).alias(\"word\"))"
      ],
      "metadata": {
        "id": "jt_GJS1DiPli"
      },
      "execution_count": 10,
      "outputs": []
    },
    {
      "cell_type": "code",
      "source": [
        "# Counting the word frequencies\n",
        "word_counts = df_words.groupBy(\"word\").count().orderBy(col(\"count\").desc())\n",
        "# Showing the top 10 most common words\n",
        "word_counts.show(10)"
      ],
      "metadata": {
        "colab": {
          "base_uri": "https://localhost:8080/"
        },
        "id": "Y0zsiIjxibGS",
        "outputId": "4a2ea6a9-bee6-420f-f2f6-4a4016fcf399"
      },
      "execution_count": 11,
      "outputs": [
        {
          "output_type": "stream",
          "name": "stdout",
          "text": [
            "+----+------+\n",
            "|word| count|\n",
            "+----+------+\n",
            "| the|770031|\n",
            "| and|545083|\n",
            "|  of|503350|\n",
            "|  to|307905|\n",
            "|   a|303321|\n",
            "|  in|241999|\n",
            "|  is|128667|\n",
            "| for|120241|\n",
            "|with|103418|\n",
            "|that| 91267|\n",
            "+----+------+\n",
            "only showing top 10 rows\n",
            "\n"
          ]
        }
      ]
    },
    {
      "cell_type": "code",
      "source": [
        "# Task 2: Group by Categories and Count\n",
        "category_counts = df.groupBy(\"categories\").count().orderBy(col(\"count\").desc())\n",
        "category_counts.show()"
      ],
      "metadata": {
        "colab": {
          "base_uri": "https://localhost:8080/"
        },
        "id": "EWynoF0PiftK",
        "outputId": "9cb53748-fd56-488c-fffe-03a54505f255"
      },
      "execution_count": 12,
      "outputs": [
        {
          "output_type": "stream",
          "name": "stdout",
          "text": [
            "+--------------------+-----+\n",
            "|          categories|count|\n",
            "+--------------------+-----+\n",
            "|                NULL|40524|\n",
            "|         ['Fiction']|20020|\n",
            "|        ['Religion']| 7923|\n",
            "|         ['History']| 7882|\n",
            "|['Juvenile Fiction']| 6088|\n",
            "|['Biography & Aut...| 5207|\n",
            "|['Business & Econ...| 4663|\n",
            "|       ['Computers']| 3659|\n",
            "|  ['Social Science']| 3212|\n",
            "|['Juvenile Nonfic...| 3190|\n",
            "|         ['Science']| 2346|\n",
            "|       ['Education']| 2297|\n",
            "|         ['Cooking']| 2158|\n",
            "|['Sports & Recrea...| 1975|\n",
            "|         ['Medical']| 1828|\n",
            "|           ['Music']| 1823|\n",
            "|['Family & Relati...| 1814|\n",
            "|             ['Art']| 1796|\n",
            "|['Literary Critic...| 1791|\n",
            "|['Language Arts &...| 1751|\n",
            "+--------------------+-----+\n",
            "only showing top 20 rows\n",
            "\n"
          ]
        }
      ]
    },
    {
      "cell_type": "markdown",
      "source": [
        "Apache Spark MLlib for Machine Learning"
      ],
      "metadata": {
        "id": "85s0jIRri9FT"
      }
    },
    {
      "cell_type": "code",
      "source": [
        "from pyspark.sql.types import IntegerType\n",
        "from pyspark.ml.feature import VectorAssembler\n",
        "from pyspark.ml.clustering import KMeans\n",
        "from pyspark.ml.evaluation import ClusteringEvaluator"
      ],
      "metadata": {
        "id": "QfCn1N1ni3Eh"
      },
      "execution_count": 15,
      "outputs": []
    },
    {
      "cell_type": "code",
      "source": [
        "# Assuring the 'ratingsCount' column is cast to a numeric type\n",
        "df = df.withColumn(\"ratingsCount\", col(\"ratingsCount\").cast(IntegerType()))\n",
        "# Dropping the rows where 'ratingsCount' is null\n",
        "df_cleaned = df.na.drop(subset=[\"ratingsCount\"])\n",
        "# Converting to the feature vector\n",
        "vector_assembler = VectorAssembler(inputCols=[\"ratingsCount\"], outputCol=\"features\")\n",
        "df_ml = vector_assembler.transform(df_cleaned)"
      ],
      "metadata": {
        "id": "fp4PpLWMi_wg"
      },
      "execution_count": 16,
      "outputs": []
    },
    {
      "cell_type": "code",
      "source": [
        "# Performing the K-Means Clustering\n",
        "kmeans = KMeans().setK(3).setSeed(1)  # 3 clusters\n",
        "model = kmeans.fit(df_ml)\n",
        "# Evaluating the clustering\n",
        "predictions = model.transform(df_ml)\n",
        "evaluator = ClusteringEvaluator()\n",
        "silhouette = evaluator.evaluate(predictions)\n",
        "print(f\"Silhouette Score: {silhouette}\")"
      ],
      "metadata": {
        "colab": {
          "base_uri": "https://localhost:8080/"
        },
        "id": "TcADPcHljHZg",
        "outputId": "2c43a022-3c80-4d01-b595-19c2a640909f"
      },
      "execution_count": 17,
      "outputs": [
        {
          "output_type": "stream",
          "name": "stdout",
          "text": [
            "Silhouette Score: 0.9977541695374487\n"
          ]
        }
      ]
    },
    {
      "cell_type": "code",
      "source": [
        "# Showing the cluster assignments\n",
        "predictions.select(\"categories\", \"ratingsCount\", \"prediction\").show(10)"
      ],
      "metadata": {
        "colab": {
          "base_uri": "https://localhost:8080/"
        },
        "id": "IKv_vc3jjhhP",
        "outputId": "66396b90-821a-4f30-ec70-406ee4bd19da"
      },
      "execution_count": 18,
      "outputs": [
        {
          "output_type": "stream",
          "name": "stdout",
          "text": [
            "+--------------------+------------+----------+\n",
            "|          categories|ratingsCount|prediction|\n",
            "+--------------------+------------+----------+\n",
            "|        ['Religion']|           5|         0|\n",
            "|                NULL|           3|         0|\n",
            "|['Biography & Aut...|           1|         0|\n",
            "|         ['History']|           1|         0|\n",
            "|                NULL|           1|         0|\n",
            "|['Juvenile Fiction']|           2|         0|\n",
            "|['Sports & Recrea...|           1|         0|\n",
            "|    ['Architecture']|           1|         0|\n",
            "|        ['Religion']|           4|         0|\n",
            "|         ['Fiction']|           1|         0|\n",
            "+--------------------+------------+----------+\n",
            "only showing top 10 rows\n",
            "\n"
          ]
        }
      ]
    },
    {
      "cell_type": "code",
      "source": [],
      "metadata": {
        "id": "orNCdk9yjoJW"
      },
      "execution_count": null,
      "outputs": []
    }
  ]
}